{
 "cells": [
  {
   "cell_type": "code",
   "execution_count": 1,
   "metadata": {
    "collapsed": true,
    "pycharm": {
     "name": "#%%\n"
    }
   },
   "outputs": [
    {
     "name": "stdout",
     "output_type": "stream",
     "text": [
      "Collecting split-folders\r\n",
      "  Using cached split_folders-0.5.1-py3-none-any.whl (8.4 kB)\r\n",
      "Installing collected packages: split-folders\r\n",
      "Successfully installed split-folders-0.5.1\r\n",
      "Requirement already satisfied: tensorflow in /home/faisalshahbaz/EnvAIEvent/lib/python3.6/site-packages (2.6.2)\r\n",
      "Requirement already satisfied: wheel~=0.35 in /home/faisalshahbaz/EnvAIEvent/lib/python3.6/site-packages (from tensorflow) (0.37.1)\r\n",
      "Requirement already satisfied: astunparse~=1.6.3 in /home/faisalshahbaz/EnvAIEvent/lib/python3.6/site-packages (from tensorflow) (1.6.3)\r\n",
      "Requirement already satisfied: opt-einsum~=3.3.0 in /home/faisalshahbaz/EnvAIEvent/lib/python3.6/site-packages (from tensorflow) (3.3.0)\r\n",
      "Requirement already satisfied: termcolor~=1.1.0 in /home/faisalshahbaz/EnvAIEvent/lib/python3.6/site-packages (from tensorflow) (1.1.0)\r\n",
      "Requirement already satisfied: wrapt~=1.12.1 in /home/faisalshahbaz/EnvAIEvent/lib/python3.6/site-packages (from tensorflow) (1.12.1)\r\n",
      "Requirement already satisfied: numpy~=1.19.2 in /home/faisalshahbaz/EnvAIEvent/lib/python3.6/site-packages (from tensorflow) (1.19.5)\r\n",
      "Requirement already satisfied: flatbuffers~=1.12.0 in /home/faisalshahbaz/EnvAIEvent/lib/python3.6/site-packages (from tensorflow) (1.12)\r\n",
      "Requirement already satisfied: google-pasta~=0.2 in /home/faisalshahbaz/EnvAIEvent/lib/python3.6/site-packages (from tensorflow) (0.2.0)\r\n",
      "Requirement already satisfied: h5py~=3.1.0 in /home/faisalshahbaz/EnvAIEvent/lib/python3.6/site-packages (from tensorflow) (3.1.0)\r\n",
      "Requirement already satisfied: absl-py~=0.10 in /home/faisalshahbaz/EnvAIEvent/lib/python3.6/site-packages (from tensorflow) (0.15.0)\r\n",
      "Requirement already satisfied: protobuf>=3.9.2 in /home/faisalshahbaz/EnvAIEvent/lib/python3.6/site-packages (from tensorflow) (3.19.4)\r\n",
      "Requirement already satisfied: typing-extensions~=3.7.4 in /home/faisalshahbaz/EnvAIEvent/lib/python3.6/site-packages (from tensorflow) (3.7.4.3)\r\n",
      "Requirement already satisfied: gast==0.4.0 in /home/faisalshahbaz/EnvAIEvent/lib/python3.6/site-packages (from tensorflow) (0.4.0)\r\n",
      "Requirement already satisfied: tensorflow-estimator<2.7,>=2.6.0 in /home/faisalshahbaz/EnvAIEvent/lib/python3.6/site-packages (from tensorflow) (2.6.0)\r\n",
      "Requirement already satisfied: clang~=5.0 in /home/faisalshahbaz/EnvAIEvent/lib/python3.6/site-packages (from tensorflow) (5.0)\r\n",
      "Requirement already satisfied: keras<2.7,>=2.6.0 in /home/faisalshahbaz/EnvAIEvent/lib/python3.6/site-packages (from tensorflow) (2.6.0)\r\n",
      "Requirement already satisfied: grpcio<2.0,>=1.37.0 in /home/faisalshahbaz/EnvAIEvent/lib/python3.6/site-packages (from tensorflow) (1.47.0)\r\n",
      "Requirement already satisfied: six~=1.15.0 in /home/faisalshahbaz/EnvAIEvent/lib/python3.6/site-packages (from tensorflow) (1.15.0)\r\n",
      "Requirement already satisfied: keras-preprocessing~=1.1.2 in /home/faisalshahbaz/EnvAIEvent/lib/python3.6/site-packages (from tensorflow) (1.1.2)\r\n",
      "Requirement already satisfied: tensorboard<2.7,>=2.6.0 in /home/faisalshahbaz/EnvAIEvent/lib/python3.6/site-packages (from tensorflow) (2.6.0)\r\n",
      "Requirement already satisfied: cached-property in /home/faisalshahbaz/EnvAIEvent/lib/python3.6/site-packages (from h5py~=3.1.0->tensorflow) (1.5.2)\r\n",
      "Requirement already satisfied: tensorboard-data-server<0.7.0,>=0.6.0 in /home/faisalshahbaz/EnvAIEvent/lib/python3.6/site-packages (from tensorboard<2.7,>=2.6.0->tensorflow) (0.6.1)\r\n",
      "Requirement already satisfied: google-auth<2,>=1.6.3 in /home/faisalshahbaz/EnvAIEvent/lib/python3.6/site-packages (from tensorboard<2.7,>=2.6.0->tensorflow) (1.35.0)\r\n",
      "Requirement already satisfied: markdown>=2.6.8 in /home/faisalshahbaz/EnvAIEvent/lib/python3.6/site-packages (from tensorboard<2.7,>=2.6.0->tensorflow) (3.3.7)\r\n",
      "Requirement already satisfied: setuptools>=41.0.0 in /home/faisalshahbaz/EnvAIEvent/lib/python3.6/site-packages (from tensorboard<2.7,>=2.6.0->tensorflow) (59.6.0)\r\n",
      "Requirement already satisfied: google-auth-oauthlib<0.5,>=0.4.1 in /home/faisalshahbaz/EnvAIEvent/lib/python3.6/site-packages (from tensorboard<2.7,>=2.6.0->tensorflow) (0.4.6)\r\n",
      "Requirement already satisfied: requests<3,>=2.21.0 in /home/faisalshahbaz/EnvAIEvent/lib/python3.6/site-packages (from tensorboard<2.7,>=2.6.0->tensorflow) (2.27.1)\r\n",
      "Requirement already satisfied: werkzeug>=0.11.15 in /home/faisalshahbaz/EnvAIEvent/lib/python3.6/site-packages (from tensorboard<2.7,>=2.6.0->tensorflow) (2.0.3)\r\n",
      "Requirement already satisfied: tensorboard-plugin-wit>=1.6.0 in /home/faisalshahbaz/EnvAIEvent/lib/python3.6/site-packages (from tensorboard<2.7,>=2.6.0->tensorflow) (1.8.1)\r\n",
      "Requirement already satisfied: pyasn1-modules>=0.2.1 in /home/faisalshahbaz/EnvAIEvent/lib/python3.6/site-packages (from google-auth<2,>=1.6.3->tensorboard<2.7,>=2.6.0->tensorflow) (0.2.8)\r\n",
      "Requirement already satisfied: rsa<5,>=3.1.4 in /home/faisalshahbaz/EnvAIEvent/lib/python3.6/site-packages (from google-auth<2,>=1.6.3->tensorboard<2.7,>=2.6.0->tensorflow) (4.8)\r\n",
      "Requirement already satisfied: cachetools<5.0,>=2.0.0 in /home/faisalshahbaz/EnvAIEvent/lib/python3.6/site-packages (from google-auth<2,>=1.6.3->tensorboard<2.7,>=2.6.0->tensorflow) (4.2.4)\r\n",
      "Requirement already satisfied: requests-oauthlib>=0.7.0 in /home/faisalshahbaz/EnvAIEvent/lib/python3.6/site-packages (from google-auth-oauthlib<0.5,>=0.4.1->tensorboard<2.7,>=2.6.0->tensorflow) (1.3.1)\r\n",
      "Requirement already satisfied: importlib-metadata>=4.4 in /home/faisalshahbaz/EnvAIEvent/lib/python3.6/site-packages (from markdown>=2.6.8->tensorboard<2.7,>=2.6.0->tensorflow) (4.8.3)\r\n",
      "Requirement already satisfied: certifi>=2017.4.17 in /home/faisalshahbaz/EnvAIEvent/lib/python3.6/site-packages (from requests<3,>=2.21.0->tensorboard<2.7,>=2.6.0->tensorflow) (2022.6.15)\r\n",
      "Requirement already satisfied: charset-normalizer~=2.0.0 in /home/faisalshahbaz/EnvAIEvent/lib/python3.6/site-packages (from requests<3,>=2.21.0->tensorboard<2.7,>=2.6.0->tensorflow) (2.0.12)\r\n",
      "Requirement already satisfied: idna<4,>=2.5 in /home/faisalshahbaz/EnvAIEvent/lib/python3.6/site-packages (from requests<3,>=2.21.0->tensorboard<2.7,>=2.6.0->tensorflow) (3.3)\r\n",
      "Requirement already satisfied: urllib3<1.27,>=1.21.1 in /home/faisalshahbaz/EnvAIEvent/lib/python3.6/site-packages (from requests<3,>=2.21.0->tensorboard<2.7,>=2.6.0->tensorflow) (1.26.9)\r\n",
      "Requirement already satisfied: dataclasses in /home/faisalshahbaz/EnvAIEvent/lib/python3.6/site-packages (from werkzeug>=0.11.15->tensorboard<2.7,>=2.6.0->tensorflow) (0.8)\r\n",
      "Requirement already satisfied: zipp>=0.5 in /home/faisalshahbaz/EnvAIEvent/lib/python3.6/site-packages (from importlib-metadata>=4.4->markdown>=2.6.8->tensorboard<2.7,>=2.6.0->tensorflow) (3.6.0)\r\n",
      "Requirement already satisfied: pyasn1<0.5.0,>=0.4.6 in /home/faisalshahbaz/EnvAIEvent/lib/python3.6/site-packages (from pyasn1-modules>=0.2.1->google-auth<2,>=1.6.3->tensorboard<2.7,>=2.6.0->tensorflow) (0.4.8)\r\n",
      "Requirement already satisfied: oauthlib>=3.0.0 in /home/faisalshahbaz/EnvAIEvent/lib/python3.6/site-packages (from requests-oauthlib>=0.7.0->google-auth-oauthlib<0.5,>=0.4.1->tensorboard<2.7,>=2.6.0->tensorflow) (3.2.0)\r\n",
      "Requirement already satisfied: matplotlib in /home/faisalshahbaz/EnvAIEvent/lib/python3.6/site-packages (3.3.4)\r\n",
      "Requirement already satisfied: pyparsing!=2.0.4,!=2.1.2,!=2.1.6,>=2.0.3 in /home/faisalshahbaz/EnvAIEvent/lib/python3.6/site-packages (from matplotlib) (3.0.9)\r\n",
      "Requirement already satisfied: cycler>=0.10 in /home/faisalshahbaz/EnvAIEvent/lib/python3.6/site-packages (from matplotlib) (0.11.0)\r\n",
      "Requirement already satisfied: python-dateutil>=2.1 in /home/faisalshahbaz/EnvAIEvent/lib/python3.6/site-packages (from matplotlib) (2.8.2)\r\n",
      "Requirement already satisfied: pillow>=6.2.0 in /home/faisalshahbaz/EnvAIEvent/lib/python3.6/site-packages (from matplotlib) (8.4.0)\r\n",
      "Requirement already satisfied: kiwisolver>=1.0.1 in /home/faisalshahbaz/EnvAIEvent/lib/python3.6/site-packages (from matplotlib) (1.3.1)\r\n",
      "Requirement already satisfied: numpy>=1.15 in /home/faisalshahbaz/EnvAIEvent/lib/python3.6/site-packages (from matplotlib) (1.19.5)\r\n",
      "Requirement already satisfied: six>=1.5 in /home/faisalshahbaz/EnvAIEvent/lib/python3.6/site-packages (from python-dateutil>=2.1->matplotlib) (1.15.0)\r\n",
      "Requirement already satisfied: sklearn in /home/faisalshahbaz/EnvAIEvent/lib/python3.6/site-packages (0.0)\r\n",
      "Requirement already satisfied: scikit-learn in /home/faisalshahbaz/EnvAIEvent/lib/python3.6/site-packages (from sklearn) (0.24.2)\r\n",
      "Requirement already satisfied: joblib>=0.11 in /home/faisalshahbaz/EnvAIEvent/lib/python3.6/site-packages (from scikit-learn->sklearn) (1.1.0)\r\n",
      "Requirement already satisfied: threadpoolctl>=2.0.0 in /home/faisalshahbaz/EnvAIEvent/lib/python3.6/site-packages (from scikit-learn->sklearn) (3.1.0)\r\n",
      "Requirement already satisfied: scipy>=0.19.1 in /home/faisalshahbaz/EnvAIEvent/lib/python3.6/site-packages (from scikit-learn->sklearn) (1.5.4)\r\n",
      "Requirement already satisfied: numpy>=1.13.3 in /home/faisalshahbaz/EnvAIEvent/lib/python3.6/site-packages (from scikit-learn->sklearn) (1.19.5)\r\n"
     ]
    }
   ],
   "source": [
    "#installation\n",
    "\n",
    "!pip install split-folders\n",
    "!pip install tensorflow\n",
    "!pip install matplotlib\n",
    "!pip install sklearn"
   ]
  },
  {
   "cell_type": "code",
   "execution_count": 1,
   "outputs": [
    {
     "name": "stdout",
     "output_type": "stream",
     "text": [
      "2.6.2\n"
     ]
    }
   ],
   "source": [
    "import splitfolders\n",
    "import os\n",
    "import numpy as np\n",
    "import tensorflow as tf\n",
    "from tensorflow import keras\n",
    "import glob, random\n",
    "import matplotlib.pyplot as plt\n",
    "\n",
    "print(tf.__version__)\n",
    "ROOT_DIR = os.path.abspath(os.curdir)"
   ],
   "metadata": {
    "collapsed": false,
    "pycharm": {
     "name": "#%%\n"
    }
   }
  },
  {
   "cell_type": "code",
   "execution_count": 2,
   "outputs": [],
   "source": [
    "# split training data into two folders train and validation with ratio 80 and 20 percent.\n",
    "\n",
    "splitfolders.ratio(ROOT_DIR+\"/CSGO-gun-dataset/Train\", output=ROOT_DIR+\"/training-data\", seed=100, ratio=(.8, .2), group_prefix=None)"
   ],
   "metadata": {
    "collapsed": false,
    "pycharm": {
     "name": "#%%\n"
    }
   }
  },
  {
   "cell_type": "code",
   "execution_count": 3,
   "outputs": [],
   "source": [
    "ImageDataGenerators = tf.keras.preprocessing.image.ImageDataGenerator\n",
    "\n",
    "TRAINING_DIR = ROOT_DIR+\"/training-data/train/\"\n",
    "VALIDATION_DIR = ROOT_DIR+\"/training-data/val/\"\n",
    "\n",
    "train_datagen = ImageDataGenerators(rescale=1.0/255.)\n",
    "validation_datagen = ImageDataGenerators(rescale=1.0/255.)"
   ],
   "metadata": {
    "collapsed": false,
    "pycharm": {
     "name": "#%%\n"
    }
   }
  },
  {
   "cell_type": "code",
   "execution_count": 4,
   "outputs": [
    {
     "name": "stdout",
     "output_type": "stream",
     "text": [
      "Found 650 images belonging to 33 classes.\n",
      "Found 177 images belonging to 33 classes.\n"
     ]
    }
   ],
   "source": [
    "train_generator = train_datagen.flow_from_directory(TRAINING_DIR,\n",
    "                                                    batch_size=64,\n",
    "                                                    class_mode=\"categorical\",\n",
    "                                                    target_size=(150, 150))\n",
    "\n",
    "\n",
    "validation_generator = validation_datagen.flow_from_directory(VALIDATION_DIR,\n",
    "                                                              batch_size=64,\n",
    "                                                              class_mode=\"categorical\",\n",
    "                                                              target_size=(150, 150))"
   ],
   "metadata": {
    "collapsed": false,
    "pycharm": {
     "name": "#%%\n"
    }
   }
  },
  {
   "cell_type": "code",
   "execution_count": 5,
   "outputs": [],
   "source": [
    "class_dict = train_generator.class_indices # returns ie. {'aligator': 0, 'cat': 1, 'dog': 2}"
   ],
   "metadata": {
    "collapsed": false,
    "pycharm": {
     "name": "#%%\n"
    }
   }
  },
  {
   "cell_type": "code",
   "execution_count": 6,
   "outputs": [
    {
     "data": {
      "text/plain": "{'AK-47': 0,\n 'AWP': 1,\n 'Aug': 2,\n 'CZ-75': 3,\n 'Famas': 4,\n 'Five_Seven': 5,\n 'G3SG1': 6,\n 'Galil-AR': 7,\n 'Glock': 8,\n 'M249': 9,\n 'M4A1': 10,\n 'M4A4': 11,\n 'MAC-10': 12,\n 'MP-5': 13,\n 'MP-7': 14,\n 'MP-9': 15,\n 'Mag-7': 16,\n 'Negev': 17,\n 'Nova': 18,\n 'P-2000': 19,\n 'P-90': 20,\n 'P250': 21,\n 'Revolver': 22,\n 'SG-553': 23,\n 'Sawed-Off': 24,\n 'Scar-20': 25,\n 'Scout': 26,\n 'Tec-9': 27,\n 'UMP': 28,\n 'USP': 29,\n 'XM-1014': 30,\n 'dual_pistol': 31,\n 'pp': 32}"
     },
     "execution_count": 6,
     "metadata": {},
     "output_type": "execute_result"
    }
   ],
   "source": [
    "class_dict"
   ],
   "metadata": {
    "collapsed": false,
    "pycharm": {
     "name": "#%%\n"
    }
   }
  },
  {
   "cell_type": "code",
   "execution_count": 7,
   "outputs": [],
   "source": [
    "number_Class = len(class_dict)"
   ],
   "metadata": {
    "collapsed": false,
    "pycharm": {
     "name": "#%%\n"
    }
   }
  },
  {
   "cell_type": "code",
   "execution_count": 8,
   "outputs": [
    {
     "data": {
      "text/plain": "33"
     },
     "execution_count": 8,
     "metadata": {},
     "output_type": "execute_result"
    }
   ],
   "source": [
    "number_Class"
   ],
   "metadata": {
    "collapsed": false,
    "pycharm": {
     "name": "#%%\n"
    }
   }
  },
  {
   "cell_type": "code",
   "execution_count": 16,
   "outputs": [],
   "source": [
    "model = tf.keras.models.Sequential([\n",
    "    tf.keras.layers.Conv2D(16, (3, 3), activation='relu', input_shape=(150, 150, 3)),\n",
    "    tf.keras.layers.MaxPooling2D(2, 2),\n",
    "    tf.keras.layers.Conv2D(32, (3, 3), activation='relu'),\n",
    "    tf.keras.layers.MaxPooling2D(2, 2),\n",
    "    tf.keras.layers.Conv2D(64, (3, 3), activation='relu'),\n",
    "    tf.keras.layers.MaxPooling2D(2, 2),\n",
    "    tf.keras.layers.Dropout(0.2),\n",
    "    tf.keras.layers.Flatten(),\n",
    "    tf.keras.layers.Dense(128, activation='relu'),\n",
    "    tf.keras.layers.Dense(number_Class, activation='softmax')\n",
    "])"
   ],
   "metadata": {
    "collapsed": false,
    "pycharm": {
     "name": "#%%\n"
    }
   }
  },
  {
   "cell_type": "code",
   "execution_count": 17,
   "outputs": [
    {
     "name": "stdout",
     "output_type": "stream",
     "text": [
      "Model: \"sequential_1\"\n",
      "_________________________________________________________________\n",
      "Layer (type)                 Output Shape              Param #   \n",
      "=================================================================\n",
      "conv2d_3 (Conv2D)            (None, 148, 148, 16)      448       \n",
      "_________________________________________________________________\n",
      "max_pooling2d_3 (MaxPooling2 (None, 74, 74, 16)        0         \n",
      "_________________________________________________________________\n",
      "conv2d_4 (Conv2D)            (None, 72, 72, 32)        4640      \n",
      "_________________________________________________________________\n",
      "max_pooling2d_4 (MaxPooling2 (None, 36, 36, 32)        0         \n",
      "_________________________________________________________________\n",
      "conv2d_5 (Conv2D)            (None, 34, 34, 64)        18496     \n",
      "_________________________________________________________________\n",
      "max_pooling2d_5 (MaxPooling2 (None, 17, 17, 64)        0         \n",
      "_________________________________________________________________\n",
      "dropout (Dropout)            (None, 17, 17, 64)        0         \n",
      "_________________________________________________________________\n",
      "flatten_1 (Flatten)          (None, 18496)             0         \n",
      "_________________________________________________________________\n",
      "dense_2 (Dense)              (None, 128)               2367616   \n",
      "_________________________________________________________________\n",
      "dense_3 (Dense)              (None, 33)                4257      \n",
      "=================================================================\n",
      "Total params: 2,395,457\n",
      "Trainable params: 2,395,457\n",
      "Non-trainable params: 0\n",
      "_________________________________________________________________\n"
     ]
    }
   ],
   "source": [
    "model.summary()"
   ],
   "metadata": {
    "collapsed": false,
    "pycharm": {
     "name": "#%%\n"
    }
   }
  },
  {
   "cell_type": "code",
   "execution_count": 18,
   "outputs": [
    {
     "name": "stdout",
     "output_type": "stream",
     "text": [
      "Epoch 1/5\n",
      "11/11 [==============================] - 19s 2s/step - loss: 3.3000 - accuracy: 0.1246 - val_loss: 2.7182 - val_accuracy: 0.2486\n",
      "Epoch 2/5\n",
      "11/11 [==============================] - 13s 1s/step - loss: 1.8929 - accuracy: 0.5569 - val_loss: 0.7875 - val_accuracy: 0.7797\n",
      "Epoch 3/5\n",
      "11/11 [==============================] - 13s 1s/step - loss: 0.4181 - accuracy: 0.9092 - val_loss: 0.2163 - val_accuracy: 0.9435\n",
      "Epoch 4/5\n",
      "11/11 [==============================] - 13s 1s/step - loss: 0.0870 - accuracy: 0.9831 - val_loss: 0.0328 - val_accuracy: 0.9831\n",
      "Epoch 5/5\n",
      "11/11 [==============================] - 12s 1s/step - loss: 0.0670 - accuracy: 0.9877 - val_loss: 0.0192 - val_accuracy: 0.9944\n"
     ]
    }
   ],
   "source": [
    "model.compile(optimizer='adam', loss='categorical_crossentropy', metrics=['accuracy'])\n",
    "history = model.fit_generator(train_generator,\n",
    "                              epochs=5,\n",
    "                              verbose=1,\n",
    "                              validation_data=validation_generator)"
   ],
   "metadata": {
    "collapsed": false,
    "pycharm": {
     "name": "#%%\n"
    }
   }
  },
  {
   "cell_type": "code",
   "execution_count": 19,
   "outputs": [],
   "source": [
    "model.save('Gun-Classification.h5')"
   ],
   "metadata": {
    "collapsed": false,
    "pycharm": {
     "name": "#%%\n"
    }
   }
  },
  {
   "cell_type": "code",
   "execution_count": 20,
   "outputs": [
    {
     "data": {
      "text/plain": "Text(0.5, 1.0, 'Training and validation loss')"
     },
     "execution_count": 20,
     "metadata": {},
     "output_type": "execute_result"
    },
    {
     "data": {
      "text/plain": "<Figure size 432x288 with 1 Axes>",
      "image/png": "[encoded data removed]"
     },
     "metadata": {},
     "output_type": "display_data"
    },
    {
     "data": {
      "text/plain": "<Figure size 432x288 with 1 Axes>",
      "image/png": "[encoded data removed]"
     },
     "metadata": {},
     "output_type": "display_data"
    }
   ],
   "source": [
    "# Retrieve a list of accuracy results on training and validation data\n",
    "# sets for each training epoch\n",
    "acc = history.history['accuracy']\n",
    "val_acc = history.history['val_accuracy']\n",
    "\n",
    "# Retrieve a list of list results on training and validation data\n",
    "# sets for each training epoch\n",
    "loss = history.history['loss']\n",
    "val_loss = history.history['val_loss']\n",
    "\n",
    "# Get number of epochs\n",
    "epochs = range(len(acc))\n",
    "\n",
    "# Plot training and validation accuracy per epoch\n",
    "plt.plot(epochs, acc)\n",
    "plt.plot(epochs, val_acc)\n",
    "plt.title('Training and validation accuracy')\n",
    "\n",
    "plt.figure()\n",
    "\n",
    "# Plot training and validation loss per epoch\n",
    "plt.plot(epochs, loss)\n",
    "plt.plot(epochs, val_loss)\n",
    "plt.title('Training and validation loss')"
   ],
   "metadata": {
    "collapsed": false,
    "pycharm": {
     "name": "#%%\n"
    }
   }
  },
  {
   "cell_type": "code",
   "execution_count": 21,
   "outputs": [
    {
     "data": {
      "text/plain": "<Figure size 432x288 with 1 Axes>",
      "image/png": "[encoded data removed]"
     },
     "metadata": {},
     "output_type": "display_data"
    },
    {
     "name": "stdout",
     "output_type": "stream",
     "text": [
      "M249\n"
     ]
    }
   ],
   "source": [
    "#Predictions\n",
    "# Execute Predictions cell every time, Random image pass to the model\n",
    "\n",
    "image = keras.preprocessing.image\n",
    "model = keras.models.load_model('Gun-Classification.h5')\n",
    "\n",
    "#path to any image to be predicted\n",
    "TestImage = glob.glob(ROOT_DIR+\"/CSGO-gun-dataset/Test/*/*\")\n",
    "images = glob.glob(random.choice(TestImage))\n",
    "random_image = random.choice(images)\n",
    "\n",
    "img = image.load_img(random_image, target_size=(150, 150))\n",
    "x = image.img_to_array(img)\n",
    "x = np.expand_dims(x, axis=0)\n",
    "images = np.vstack([x])\n",
    "classes = model.predict(images, batch_size=1)\n",
    "y_classes = classes.argmax(axis=-1)\n",
    "\n",
    "name = list(class_dict.keys())[list(class_dict.values()).index(y_classes[0])]\n",
    "imgplot = plt.imshow(img)\n",
    "plt.show()\n",
    "print(name)"
   ],
   "metadata": {
    "collapsed": false,
    "pycharm": {
     "name": "#%%\n"
    }
   }
  },
  {
   "cell_type": "code",
   "execution_count": null,
   "outputs": [],
   "source": [],
   "metadata": {
    "collapsed": false,
    "pycharm": {
     "name": "#%%\n"
    }
   }
  }
 ],
 "metadata": {
  "kernelspec": {
   "display_name": "Python 3",
   "language": "python",
   "name": "python3"
  },
  "language_info": {
   "codemirror_mode": {
    "name": "ipython",
    "version": 2
   },
   "file_extension": ".py",
   "mimetype": "text/x-python",
   "name": "python",
   "nbconvert_exporter": "python",
   "pygments_lexer": "ipython2",
   "version": "2.7.6"
  }
 },
 "nbformat": 4,
 "nbformat_minor": 0
}