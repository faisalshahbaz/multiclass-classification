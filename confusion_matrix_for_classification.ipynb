{
 "cells": [
  {
   "cell_type": "code",
   "execution_count": 12,
   "outputs": [],
   "source": [
    "import pathlib\n",
    "import numpy as np\n",
    "from tensorflow import keras\n",
    "import cv2\n"
   ],
   "metadata": {
    "collapsed": false,
    "pycharm": {
     "name": "#%%\n"
    }
   }
  },
  {
   "cell_type": "code",
   "execution_count": 13,
   "outputs": [],
   "source": [
    "# class_dict = train_generator.class_indices\n",
    "class_dict = {'AK-47': 0,\n",
    " 'AWP': 1,\n",
    " 'Aug': 2,\n",
    " 'CZ-75': 3,\n",
    " 'Famas': 4,\n",
    " 'Five_Seven': 5,\n",
    " 'G3SG1': 6,\n",
    " 'Galil-AR': 7,\n",
    " 'Glock': 8,\n",
    " 'M249': 9,\n",
    " 'M4A1': 10,\n",
    " 'M4A4': 11,\n",
    " 'MAC-10': 12,\n",
    " 'MP-5': 13,\n",
    " 'MP-7': 14,\n",
    " 'MP-9': 15,\n",
    " 'Mag-7': 16,\n",
    " 'Negev': 17,\n",
    " 'Nova': 18,\n",
    " 'P-2000': 19,\n",
    " 'P-90': 20,\n",
    " 'P250': 21,\n",
    " 'Revolver': 22,\n",
    " 'SG-553': 23,\n",
    " 'Sawed-Off': 24,\n",
    " 'Scar-20': 25,\n",
    " 'Scout': 26,\n",
    " 'Tec-9': 27,\n",
    " 'UMP': 28,\n",
    " 'USP': 29,\n",
    " 'XM-1014': 30,\n",
    " 'dual_pistol': 31,\n",
    " 'pp': 32}"
   ],
   "metadata": {
    "collapsed": false,
    "pycharm": {
     "name": "#%%\n"
    }
   }
  },
  {
   "cell_type": "code",
   "execution_count": 14,
   "outputs": [],
   "source": [
    "\n",
    "path = pathlib.Path('/home/faisalshahbaz/EnvAIEvent/multiclass-classification/CSGO-gun-dataset/Test/')\n",
    "image = keras.preprocessing.image\n",
    "model = keras.models.load_model('/home/faisalshahbaz/EnvAIEvent/multiclass-classification/Gun-Classification.h5')\n",
    "true_label,predicted_label = [],[]\n",
    "for i in path.iterdir():\n",
    "    for x in i.iterdir():\n",
    "        true_label.append(class_dict[i.name])\n",
    "        img = image.load_img(str(x), target_size=(150, 150))\n",
    "        x = image.img_to_array(img)\n",
    "        x = np.expand_dims(x, axis=0)\n",
    "        images = np.vstack([x])\n",
    "        predictResult = model.predict(images, batch_size=1)\n",
    "\n",
    "        #get top 5 classes in result\n",
    "        y_preds = np.argsort(predictResult, axis=-1)[:,-5:]\n",
    "        y_preds = list(reversed(y_preds[0]))\n",
    "        predicted_label.append(y_preds)"
   ],
   "metadata": {
    "collapsed": false,
    "pycharm": {
     "name": "#%%\n"
    }
   }
  },
  {
   "cell_type": "code",
   "execution_count": 15,
   "outputs": [],
   "source": [
    "final_prediction = []\n",
    "for actual,predicted in zip(true_label, predicted_label):\n",
    "    if actual in predicted:\n",
    "        final_prediction.append(actual)\n",
    "    else:\n",
    "        final_prediction.append(predicted[0])"
   ],
   "metadata": {
    "collapsed": false,
    "pycharm": {
     "name": "#%%\n"
    }
   }
  },
  {
   "cell_type": "code",
   "execution_count": 16,
   "outputs": [
    {
     "data": {
      "text/plain": "array([[2, 0, 0, ..., 0, 0, 0],\n       [0, 2, 0, ..., 0, 0, 0],\n       [0, 0, 2, ..., 0, 0, 0],\n       ...,\n       [0, 0, 0, ..., 2, 0, 0],\n       [0, 0, 0, ..., 0, 2, 0],\n       [0, 0, 0, ..., 0, 0, 2]])"
     },
     "execution_count": 16,
     "metadata": {},
     "output_type": "execute_result"
    }
   ],
   "source": [
    "from sklearn.metrics import confusion_matrix\n",
    "import seaborn as sns\n",
    "conf_ = confusion_matrix(true_label,final_prediction)\n",
    "conf_\n"
   ],
   "metadata": {
    "collapsed": false,
    "pycharm": {
     "name": "#%%\n"
    }
   }
  },
  {
   "cell_type": "code",
   "execution_count": 17,
   "outputs": [
    {
     "name": "stdout",
     "output_type": "stream",
     "text": [
      "              precision    recall  f1-score   support\n",
      "\n",
      "       AK-47       1.00      1.00      1.00         2\n",
      "         AWP       1.00      1.00      1.00         2\n",
      "         Aug       1.00      1.00      1.00         2\n",
      "       CZ-75       1.00      1.00      1.00         2\n",
      "       Famas       1.00      1.00      1.00         2\n",
      "  Five_Seven       1.00      1.00      1.00         2\n",
      "       G3SG1       1.00      1.00      1.00         2\n",
      "    Galil-AR       1.00      1.00      1.00         2\n",
      "       Glock       1.00      1.00      1.00         2\n",
      "        M249       1.00      1.00      1.00         2\n",
      "        M4A1       1.00      1.00      1.00         2\n",
      "        M4A4       1.00      1.00      1.00         2\n",
      "      MAC-10       1.00      1.00      1.00         2\n",
      "        MP-5       1.00      1.00      1.00         2\n",
      "        MP-7       1.00      1.00      1.00         2\n",
      "        MP-9       1.00      1.00      1.00         2\n",
      "       Mag-7       1.00      1.00      1.00         2\n",
      "       Negev       1.00      1.00      1.00         2\n",
      "        Nova       1.00      1.00      1.00         2\n",
      "      P-2000       1.00      1.00      1.00         2\n",
      "        P-90       1.00      1.00      1.00         2\n",
      "        P250       1.00      1.00      1.00         2\n",
      "    Revolver       1.00      1.00      1.00         2\n",
      "      SG-553       1.00      1.00      1.00         2\n",
      "   Sawed-Off       1.00      1.00      1.00         2\n",
      "     Scar-20       1.00      1.00      1.00         2\n",
      "       Scout       1.00      1.00      1.00         2\n",
      "       Tec-9       1.00      1.00      1.00         2\n",
      "         UMP       1.00      1.00      1.00         2\n",
      "         USP       1.00      1.00      1.00         2\n",
      "     XM-1014       1.00      1.00      1.00         2\n",
      " dual_pistol       1.00      1.00      1.00         2\n",
      "          pp       1.00      1.00      1.00         2\n",
      "\n",
      "    accuracy                           1.00        66\n",
      "   macro avg       1.00      1.00      1.00        66\n",
      "weighted avg       1.00      1.00      1.00        66\n",
      "\n"
     ]
    }
   ],
   "source": [
    "from sklearn import metrics\n",
    "print(metrics.classification_report(true_label,final_prediction, target_names=class_dict.keys()))"
   ],
   "metadata": {
    "collapsed": false,
    "pycharm": {
     "name": "#%%\n"
    }
   }
  },
  {
   "cell_type": "code",
   "execution_count": 24,
   "outputs": [],
   "source": [],
   "metadata": {
    "collapsed": false,
    "pycharm": {
     "name": "#%%\n"
    }
   }
  },
  {
   "cell_type": "code",
   "execution_count": null,
   "outputs": [],
   "source": [],
   "metadata": {
    "collapsed": false,
    "pycharm": {
     "name": "#%%\n"
    }
   }
  }
 ],
 "metadata": {
  "kernelspec": {
   "display_name": "Python 3",
   "language": "python",
   "name": "python3"
  },
  "language_info": {
   "codemirror_mode": {
    "name": "ipython",
    "version": 2
   },
   "file_extension": ".py",
   "mimetype": "text/x-python",
   "name": "python",
   "nbconvert_exporter": "python",
   "pygments_lexer": "ipython2",
   "version": "2.7.6"
  }
 },
 "nbformat": 4,
 "nbformat_minor": 0
}